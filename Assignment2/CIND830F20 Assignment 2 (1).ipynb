{
 "cells": [
  {
   "cell_type": "markdown",
   "metadata": {
    "id": "TX_-QfCapg5r"
   },
   "source": [
    "## CIND830 - Python Programming for Data Science  \n",
    "### Assignment 2 (10% of the final grade)\n",
    "### Due on November 09, 2020 11:59 PM"
   ]
  },
  {
   "cell_type": "markdown",
   "metadata": {
    "id": "U8IqCJzxpg5t"
   },
   "source": [
    "*****\n",
    "This is a Jupyter Notebook document that extends a simple formatting syntax for authoring HTML and PDF.\n",
    "Review [this](https://jupyter-notebook.readthedocs.io/en/stable/notebook.html) website for more details on using Juputer Notebook.\n",
    "\n",
    "Use the JupyterHub server on the Google Cloud Platform,\n",
    "provided by your designated instructor, for this assignment.\n",
    "Complete the assignment by inserting your Python code wherever you see the string\n",
    "\"#INSERT YOUR ANSWER HERE.\"\n",
    "\n",
    "When you click the `File` button, from the top navigation bar, then select `Export Notebook As ...`,\n",
    "a document (PDF or HTML format) will be generated that includes\n",
    " both the assignment content and the output of any embedded Python code chunks.\n",
    "\n",
    "Using [these](https://www.ryerson.ca/courses/students/tutorials/assignments/) guidelines,\n",
    "submit **both** the IPYNB and the exported file (PDF or HTML).\n",
    "Failing to submit both files will be subject to mark deduction."
   ]
  },
  {
   "cell_type": "markdown",
   "metadata": {
    "id": "_w2FpDl5pg5u"
   },
   "source": [
    "*****"
   ]
  },
  {
   "cell_type": "markdown",
   "metadata": {
    "id": "EgCYUXsUpg5w"
   },
   "source": [
    "### Question 1:"
   ]
  },
  {
   "cell_type": "markdown",
   "metadata": {
    "id": "U8EiOXpFAvO0"
   },
   "source": [
    "**a)** Define a function called `getEven` that takes a list of numbers as a parameter and returns a new list that contains only the even numbers.\n",
    "For example given \\[1, 2, 3, 4, 5, 7\\] the getEven function will return \\[2, 4\\]"
   ]
  },
  {
   "cell_type": "code",
   "execution_count": 9,
   "metadata": {
    "colab": {
     "base_uri": "https://localhost:8080/",
     "height": 34
    },
    "executionInfo": {
     "elapsed": 551,
     "status": "ok",
     "timestamp": 1601305912823,
     "user": {
      "displayName": "Uzair Ahmad",
      "photoUrl": "",
      "userId": "17882447974983956440"
     },
     "user_tz": 240
    },
    "id": "uDtTitw9AvO1",
    "outputId": "782b0db1-1426-4ce3-9f39-5f975448c3df",
    "pycharm": {
     "name": "#%%\n"
    }
   },
   "outputs": [
    {
     "data": {
      "text/plain": [
       "[2, 4]"
      ]
     },
     "execution_count": 9,
     "metadata": {},
     "output_type": "execute_result"
    }
   ],
   "source": [
    "def getEven(n):\n",
    "    lst = []\n",
    "    for i in n:\n",
    "        if i % 2 == 0:\n",
    "            lst.append(i)\n",
    "    return lst\n",
    "\n",
    "getEven([1,2,3,4,5,7])\n",
    "    "
   ]
  },
  {
   "cell_type": "markdown",
   "metadata": {
    "id": "7P6eyfpepg58"
   },
   "source": [
    "**b)** Modify the `getEven` function you created in Q1.a to return a dictionary of the counts of the even and the odd numbers. For example given \\[1, 2, 3, 4, 5, 7\\] the function returns {'even': 2, 'odd': 4}."
   ]
  },
  {
   "cell_type": "code",
   "execution_count": 1,
   "metadata": {
    "colab": {
     "base_uri": "https://localhost:8080/",
     "height": 34
    },
    "executionInfo": {
     "elapsed": 297,
     "status": "ok",
     "timestamp": 1601305913835,
     "user": {
      "displayName": "Uzair Ahmad",
      "photoUrl": "",
      "userId": "17882447974983956440"
     },
     "user_tz": 240
    },
    "id": "s2xo2uaYpg59",
    "outputId": "60fda112-951b-4af0-de95-0b3f2fe83c47",
    "pycharm": {
     "name": "#%%\n"
    },
    "tags": [
     "parameters"
    ]
   },
   "outputs": [
    {
     "data": {
      "text/plain": [
       "{'even': 2, 'odd': 4}"
      ]
     },
     "execution_count": 1,
     "metadata": {},
     "output_type": "execute_result"
    }
   ],
   "source": [
    "def new_getEven(n):\n",
    "    oddCount = 0\n",
    "    evenCount = 0 \n",
    "    for i in n:\n",
    "        if i % 2 == 0:\n",
    "            evenCount +=1\n",
    "        else:\n",
    "            oddCount+=1\n",
    "    return {\"even\": evenCount, \"odd\":oddCount}\n",
    "new_getEven([1,2,3,4,5,7])"
   ]
  },
  {
   "cell_type": "markdown",
   "metadata": {
    "id": "xC08P3Mvpg6C"
   },
   "source": [
    "**c)** Modify the function you created in Q1.b and add two more more entries to the returned dictionary: one to represent the sum of all the numbers and the other one to represent the ratio of the even to the odd numbers.  For example, given \\[1, 2, 3, 4, 5, 7\\] the function returns {'even': 2, 'odd': 4, 'sum': 22, 'ratio': 0.5}."
   ]
  },
  {
   "cell_type": "code",
   "execution_count": 2,
   "metadata": {
    "colab": {
     "base_uri": "https://localhost:8080/",
     "height": 34
    },
    "executionInfo": {
     "elapsed": 484,
     "status": "ok",
     "timestamp": 1601060937685,
     "user": {
      "displayName": "Tamer Abdou",
      "photoUrl": "https://lh3.googleusercontent.com/a-/AOh14GjCgNQvVj3RXxhuiis_tt7gJ-TeyFHRttd9g6sIBw=s64",
      "userId": "05886486315929943744"
     },
     "user_tz": 240
    },
    "id": "MVoBD9X1pg6D",
    "outputId": "f4006de2-de91-4b1c-8e5a-b873c71bed49",
    "pycharm": {
     "name": "#%%\n"
    },
    "tags": []
   },
   "outputs": [
    {
     "data": {
      "text/plain": [
       "{'even': 2, 'odd': 4, 'sum': 22, 'ratio': 0.5}"
      ]
     },
     "execution_count": 2,
     "metadata": {},
     "output_type": "execute_result"
    }
   ],
   "source": [
    "def new_getEven2(n):\n",
    "    oddCount = 0\n",
    "    evenCount = 0\n",
    "    mySum =0\n",
    "    for i in n:\n",
    "        mySum += i\n",
    "        if i % 2 == 0:\n",
    "            evenCount +=1\n",
    "        else:\n",
    "            oddCount+=1\n",
    "    return {\"even\": evenCount, \"odd\":oddCount,\"sum\":(mySum),\"ratio\": (evenCount/oddCount)}\n",
    "new_getEven2 ([1,2,3,4,5,7])"
   ]
  },
  {
   "cell_type": "markdown",
   "metadata": {
    "id": "M4dHoJWYpg6G"
   },
   "source": [
    "**d)** Modify the function you created in Q1.c to traverse the values of the returned dictionary and return the dictionary keys as a tuple.  For example, given \\[1, 2, 3, 4, 5, 7\\] the function returns ('even', 'odd', 'sum', 'ratio')."
   ]
  },
  {
   "cell_type": "code",
   "execution_count": 3,
   "metadata": {
    "colab": {
     "base_uri": "https://localhost:8080/",
     "height": 34
    },
    "executionInfo": {
     "elapsed": 479,
     "status": "ok",
     "timestamp": 1601060937685,
     "user": {
      "displayName": "Tamer Abdou",
      "photoUrl": "https://lh3.googleusercontent.com/a-/AOh14GjCgNQvVj3RXxhuiis_tt7gJ-TeyFHRttd9g6sIBw=s64",
      "userId": "05886486315929943744"
     },
     "user_tz": 240
    },
    "id": "gtgmUSaQpg6H",
    "outputId": "c1d81bca-edf5-4d94-d3e7-bb37fe9d7aa6",
    "pycharm": {
     "name": "#%%\n"
    },
    "tags": []
   },
   "outputs": [
    {
     "data": {
      "text/plain": [
       "('even', 'odd', 'sum', 'ratio')"
      ]
     },
     "execution_count": 3,
     "metadata": {},
     "output_type": "execute_result"
    }
   ],
   "source": [
    "def new_getEven3(n):\n",
    "    oddCount = 0\n",
    "    evenCount = 0 \n",
    "    for i in n:\n",
    "        if i % 2 == 0:\n",
    "            evenCount +=1\n",
    "        else:\n",
    "            oddCount+=1\n",
    "    myDict= {\"even\": evenCount, \"odd\":oddCount,\"sum\":(evenCount+oddCount),\"ratio\": (evenCount/oddCount)}\n",
    "    return tuple((myDict.keys()))\n",
    "new_getEven3 ([1,2,3,4,5,7])"
   ]
  },
  {
   "cell_type": "markdown",
   "metadata": {
    "id": "ES2Lj2aup8BB"
   },
   "source": [
    "*****"
   ]
  },
  {
   "cell_type": "markdown",
   "metadata": {
    "id": "TEbtnn-0pg6K",
    "nteract": {
     "transient": {
      "deleting": false
     }
    }
   },
   "source": [
    "\n",
    "\n",
    "### Question 2:\n",
    "\n",
    "Let's define a base class called `Shape` with methods to calculate the area and perimeter of different shapes, as follows:"
   ]
  },
  {
   "cell_type": "code",
   "execution_count": 24,
   "metadata": {
    "collapsed": false,
    "id": "sAiYselppg6K",
    "jupyter": {
     "outputs_hidden": false,
     "source_hidden": false
    },
    "nteract": {
     "transient": {
      "deleting": false
     }
    }
   },
   "outputs": [],
   "source": [
    "class Shape:\n",
    "    '''A class defining shapes'''\n",
    "    def __repr__(self):\n",
    "        return f'I am a {self.__class__.__name__}' #print the shape's name\n",
    "\n",
    "    def area(self):\n",
    "        pass\n",
    "\n",
    "    def perimeter(self):\n",
    "        pass"
   ]
  },
  {
   "cell_type": "markdown",
   "metadata": {
    "id": "FRw3RLJ0pg6M",
    "nteract": {
     "transient": {
      "deleting": false
     }
    }
   },
   "source": [
    "**a)**  Define a subclass called `Rectangle` that extends the `Shape` class.  The `Rectangle` class has two parameters: width and height. The area and perimeter of can be computed according to the following formulae:\n",
    "\n",
    "$ area = width * height $\n",
    "\n",
    "$ perimeter = 2 * width * height $\n",
    "\n",
    "Hint: A subclass can implement a base class by overriding methods. The `Rectangle` subclass can be defined with the following header:\n",
    "`class Rectangle(Shape):`\n",
    "\n",
    "For example, if the subclass `Rectangle` is instantiated with `Rectangle(3,4)`, the following will be returned:\n",
    "\n",
    "`I am a Rectangle`\n",
    "\n",
    "`area = 12`\n",
    "\n",
    "`perimeter = 14`"
   ]
  },
  {
   "cell_type": "code",
   "execution_count": 25,
   "metadata": {
    "colab": {
     "base_uri": "https://localhost:8080/",
     "height": 68
    },
    "executionInfo": {
     "elapsed": 743,
     "status": "ok",
     "timestamp": 1601060838583,
     "user": {
      "displayName": "Tamer Abdou",
      "photoUrl": "https://lh3.googleusercontent.com/a-/AOh14GjCgNQvVj3RXxhuiis_tt7gJ-TeyFHRttd9g6sIBw=s64",
      "userId": "05886486315929943744"
     },
     "user_tz": 240
    },
    "id": "PWvj1Z6lpg6N",
    "nteract": {
     "transient": {
      "deleting": false
     }
    },
    "outputId": "75f584da-fab5-4ce6-b1c4-82b953ac81d1",
    "tags": []
   },
   "outputs": [
    {
     "name": "stdout",
     "output_type": "stream",
     "text": [
      "I am a Rectangle\n",
      "area =  12\n",
      "perimeter =  14\n"
     ]
    }
   ],
   "source": [
    "class Rectangle(Shape):\n",
    "    ''' Defining a subclass of Shape, Rectangle '''\n",
    "    def __init__(self, width, height):\n",
    "        self.width =width\n",
    "        self.height =height\n",
    "        \n",
    "       \n",
    "    def area(self):\n",
    "        return (print(\"area = \", (self.width * self.height)))\n",
    "    def perimeter(self):\n",
    "        return print(\"perimeter = \", 2*(self.width+self.height))\n",
    "print(Rectangle(3,4))\n",
    "(Rectangle(3,4).area())\n",
    "(Rectangle(3,4).perimeter())"
   ]
  },
  {
   "cell_type": "markdown",
   "metadata": {
    "id": "dGqJtsN4AvPB"
   },
   "source": [
    "**b)**  Define a subclass called `Square` that extends the `Rectangle` class. \n",
    "\n",
    "Hint: The `Square` class should inherit all the attributes and behaviours of the `Rectangle` class. However, for any square, the width and height are the same."
   ]
  },
  {
   "cell_type": "code",
   "execution_count": 11,
   "metadata": {
    "colab": {
     "base_uri": "https://localhost:8080/",
     "height": 68
    },
    "executionInfo": {
     "elapsed": 1309,
     "status": "ok",
     "timestamp": 1601060845986,
     "user": {
      "displayName": "Tamer Abdou",
      "photoUrl": "https://lh3.googleusercontent.com/a-/AOh14GjCgNQvVj3RXxhuiis_tt7gJ-TeyFHRttd9g6sIBw=s64",
      "userId": "05886486315929943744"
     },
     "user_tz": 240
    },
    "id": "DVOaFVZvAvPO",
    "outputId": "6e99287e-26ca-4160-e8f5-d92725e32a1c",
    "pycharm": {
     "name": "#%%\n"
    },
    "tags": []
   },
   "outputs": [],
   "source": [
    "class Square(Rectangle):\n",
    "    '''Defining a subclass of Rectangle, Square'''\n",
    "    def __init__(self, side):\n",
    "        Rectangle.__init__(self,side,side)"
   ]
  },
  {
   "cell_type": "markdown",
   "metadata": {
    "id": "mkFrWZ3kAvPQ"
   },
   "source": [
    "**c)**  Define a subclass called `Circle` that extends the `Shape` class.  The `Circle` class has only one parameter which is the `radius`, and the area and perimeter can be computed according to the following formulae:\n",
    "\n",
    "$Area Of Circle = πR^2$\n",
    "\n",
    "$Perimeter Of Circle = 2πR$\n",
    "\n",
    "Hint:  You might consider using the `math.pi` constant that returns the value of pi: 3.141592653589793.\n",
    "\n",
    "For example, if the subclass `Circle` is instantiated with Circle(radius = 5), the following will be returned:\n",
    "\n",
    "`I am a Circle`\n",
    "\n",
    "`area = 78.54`\n",
    "\n",
    "`perimeter = 31.42`"
   ]
  },
  {
   "cell_type": "code",
   "execution_count": 26,
   "metadata": {
    "colab": {
     "base_uri": "https://localhost:8080/",
     "height": 68
    },
    "executionInfo": {
     "elapsed": 434,
     "status": "ok",
     "timestamp": 1601060855602,
     "user": {
      "displayName": "Tamer Abdou",
      "photoUrl": "https://lh3.googleusercontent.com/a-/AOh14GjCgNQvVj3RXxhuiis_tt7gJ-TeyFHRttd9g6sIBw=s64",
      "userId": "05886486315929943744"
     },
     "user_tz": 240
    },
    "id": "fP4sK_mKAvPR",
    "outputId": "1e182ca4-db7b-4435-a5bd-7a401579c948",
    "pycharm": {
     "name": "#%%\n"
    },
    "tags": []
   },
   "outputs": [
    {
     "name": "stdout",
     "output_type": "stream",
     "text": [
      "I am a Circle\n",
      "area =  78.54\n",
      "perimeter = 31.42\n"
     ]
    }
   ],
   "source": [
    "import math\n",
    "class Circle(Shape):\n",
    "    '''Defining a subclass of Shape, Circle'''\n",
    "    def __init__(self, radius):\n",
    "        self.radius = radius\n",
    "    def area(self):\n",
    "        a=math.pi*(self.radius**2)\n",
    "        return print(\"area = \", round(a,2))\n",
    "                \n",
    "    def perimeter(self):\n",
    "        p=math.pi*2*(self.radius)\n",
    "        return print(\"perimeter =\", round(p,2))\n",
    "print(Circle(radius = 5))\n",
    "Circle(radius = 5).area()\n",
    "Circle(radius=5).perimeter()"
   ]
  },
  {
   "cell_type": "markdown",
   "metadata": {
    "id": "M9eJ34NNAvPT"
   },
   "source": [
    "*****"
   ]
  },
  {
   "cell_type": "markdown",
   "metadata": {
    "id": "NNVEX5FMq_I7"
   },
   "source": [
    "### Question 3:\n",
    "Email spam, also called junk email, is undesirable message sent in bulk by email (spamming). Spam filtering is an example of a document classification task deciding whether an email is a spam or non-spam. Assume that `txtFile` variable includes the content of a recieved email that has been stored as `email.txt`, as follows:\n"
   ]
  },
  {
   "cell_type": "code",
   "execution_count": 19,
   "metadata": {
    "id": "5WRgwMXxAvPV",
    "pycharm": {
     "name": "#%%\n"
    }
   },
   "outputs": [],
   "source": [
    "txtFile = open(\"email.txt\", \"w\") #Opening a file for writing\n",
    "txtFile.write(\"Subject: SAVE YOUR MUSIC AND REDEEM A SPOTIFY GIFT CARD\\n\\\n",
    "We noticed you haven\\'t used your Spotify account for accessing Spotify services in quite a while. To protect your privacy, this account will be deleted in 14 days, unless you sign in now!\\n\\\n",
    "If you haven\\'t experienced Spotify services recently, they\\'re worth another look.\\n\\\n",
    "It just takes a few seconds to sign in to a spotify account.\\n\\\n",
    "By clicking on any of the following links, you can get a gift card from Spotify worth $10, $20 or $50!\\n\\\n",
    "https://www.spotifytwo.ca\\n\\\n",
    "https://www.spotifynow.com\\n\\\n",
    "We hope to see you soon,\\n\\\n",
    "Sincerely, \\n\\\n",
    "Spotify account team\")\n",
    "txtFile.close()"
   ]
  },
  {
   "cell_type": "markdown",
   "metadata": {
    "id": "oDRF95yUAvPW",
    "pycharm": {
     "name": "#%% md\n"
    }
   },
   "source": [
    "**a)** Display the total number of lines and words in the email.txt file."
   ]
  },
  {
   "cell_type": "code",
   "execution_count": 19,
   "metadata": {
    "colab": {
     "base_uri": "https://localhost:8080/",
     "height": 51
    },
    "executionInfo": {
     "elapsed": 399,
     "status": "ok",
     "timestamp": 1601067003965,
     "user": {
      "displayName": "Tamer Abdou",
      "photoUrl": "https://lh3.googleusercontent.com/a-/AOh14GjCgNQvVj3RXxhuiis_tt7gJ-TeyFHRttd9g6sIBw=s64",
      "userId": "05886486315929943744"
     },
     "user_tz": 240
    },
    "id": "O3jPbo4vAvPc",
    "outputId": "9d1010d7-79a5-4386-b508-8c53a4670f14"
   },
   "outputs": [
    {
     "name": "stdout",
     "output_type": "stream",
     "text": [
      "The total number of lines is 10\n",
      "The total number of words is 100\n"
     ]
    }
   ],
   "source": [
    "opn = open(\"email.txt\",\"r\")\n",
    "lcount=0\n",
    "read = opn.read()\n",
    "rsplit= read.split(\"\\n\")\n",
    "for i in rsplit:\n",
    "    if i:\n",
    "        lcount+=1\n",
    "print (\"The total number of lines is \" + str (lcount))\n",
    "nwords= 0\n",
    "with open(\"email.txt\",\"r\") as f:\n",
    "    for line in f:\n",
    "        words = line.split()\n",
    "        nwords += len(words)\n",
    "print(\"The total number of words is \" + str(nwords))\n",
    "opn.close()"
   ]
  },
  {
   "cell_type": "markdown",
   "metadata": {
    "id": "YTYiW9MeAvPd"
   },
   "source": [
    "**b)** Display the subject of the received email existing in the `email.txt` file, then display the number of the upper and lower cases in the subject field."
   ]
  },
  {
   "cell_type": "code",
   "execution_count": 20,
   "metadata": {},
   "outputs": [
    {
     "name": "stdout",
     "output_type": "stream",
     "text": [
      "SAVE YOUR MUSIC AND REDEEM A SPOTIFY GIFT CARD\n",
      "\n",
      "The number of the upper cases is 9\n",
      "The number of the lower cases is 0\n"
     ]
    }
   ],
   "source": [
    "with open(\"email.txt\",\"r\") as f:\n",
    "    subject = f.readline().replace(\"Subject: \",\"\")\n",
    "    print(subject)\n",
    "upper=0\n",
    "lower=0\n",
    "for character in subject.split():\n",
    "    if character.isupper():\n",
    "        upper+=1\n",
    "    elif character.islower():\n",
    "        lower+=1\n",
    "print (\"The number of the upper cases is\", upper)\n",
    "print (\"The number of the lower cases is\", lower)"
   ]
  },
  {
   "cell_type": "markdown",
   "metadata": {
    "id": "bHHNxP0IAvPe"
   },
   "source": [
    "**c)** Does the email contain spam words such as 'gift', 'sign' or 'Buy'? "
   ]
  },
  {
   "cell_type": "code",
   "execution_count": 21,
   "metadata": {
    "colab": {
     "base_uri": "https://localhost:8080/",
     "height": 68
    },
    "executionInfo": {
     "elapsed": 752,
     "status": "ok",
     "timestamp": 1601061668153,
     "user": {
      "displayName": "Tamer Abdou",
      "photoUrl": "https://lh3.googleusercontent.com/a-/AOh14GjCgNQvVj3RXxhuiis_tt7gJ-TeyFHRttd9g6sIBw=s64",
      "userId": "05886486315929943744"
     },
     "user_tz": 240
    },
    "id": "NduU2lxxAvPg",
    "outputId": "ee7c855c-68cf-4773-9d09-a6c756f6bc1d"
   },
   "outputs": [
    {
     "name": "stdout",
     "output_type": "stream",
     "text": [
      "gift is found in the email.\n",
      "sign is found in the email.\n",
      "Buy is not found in the email.\n"
     ]
    }
   ],
   "source": [
    "word = [\"gift\",\"sign\",\"Buy\"]\n",
    "with open(\"email.txt\",\"r\") as f:\n",
    "    content = f.read()\n",
    "    for i in word:\n",
    "        if i in content:\n",
    "            print (i, 'is found in the email.')\n",
    "        else:\n",
    "            print (i, 'is not found in the email.')"
   ]
  },
  {
   "cell_type": "markdown",
   "metadata": {
    "id": "TO4Ed0HWpg6d"
   },
   "source": [
    "**d)** Define a list that consists of 10 different email spam trigger words, then check whether any of those words exist in the body of the email or not. If the email contains a spam word, print it; otherwise, return a message that the email does not include any predefined spam words."
   ]
  },
  {
   "cell_type": "code",
   "execution_count": 22,
   "metadata": {
    "id": "xrhY3djppg6d"
   },
   "outputs": [
    {
     "name": "stdout",
     "output_type": "stream",
     "text": [
      "win is found in the email.\n",
      "prize is not found in the email.\n",
      "money is not found in the email.\n",
      "lotto is not found in the email.\n",
      "millionaire is not found in the email.\n",
      "chance is not found in the email.\n",
      "https is found in the email.\n",
      "brandnew is not found in the email.\n",
      "now is found in the email.\n",
      "final is not found in the email.\n"
     ]
    }
   ],
   "source": [
    "spam = [\"win\",\"prize\",\"money\",\"lotto\",\"millionaire\",\"chance\", \"https\",\"brandnew\", \"now\",\"final\"]\n",
    "with open(\"email.txt\",\"r\") as f:\n",
    "    content = f.read()\n",
    "    for i in spam:\n",
    "        if i in content:\n",
    "            print (i, 'is found in the email.')\n",
    "        else:\n",
    "            print (i, 'is not found in the email.')"
   ]
  },
  {
   "cell_type": "markdown",
   "metadata": {
    "id": "l9l0sjUoAvPk"
   },
   "source": [
    "#### This is the end of assignment 2"
   ]
  }
 ],
 "metadata": {
  "colab": {
   "collapsed_sections": [],
   "name": "CIND830F20 Assignment 2 QA.ipynb",
   "provenance": []
  },
  "kernelspec": {
   "display_name": "Python 3",
   "language": "python",
   "name": "python3"
  },
  "language_info": {
   "codemirror_mode": {
    "name": "ipython",
    "version": 3
   },
   "file_extension": ".py",
   "mimetype": "text/x-python",
   "name": "python",
   "nbconvert_exporter": "python",
   "pygments_lexer": "ipython3",
   "version": "3.7.6"
  },
  "nteract": {
   "version": "0.25.1"
  },
  "varInspector": {
   "cols": {
    "lenName": 16,
    "lenType": 16,
    "lenVar": 40
   },
   "kernels_config": {
    "python": {
     "delete_cmd_postfix": "",
     "delete_cmd_prefix": "del ",
     "library": "var_list.py",
     "varRefreshCmd": "print(var_dic_list())"
    },
    "r": {
     "delete_cmd_postfix": ") ",
     "delete_cmd_prefix": "rm(",
     "library": "var_list.r",
     "varRefreshCmd": "cat(var_dic_list()) "
    }
   },
   "types_to_exclude": [
    "module",
    "function",
    "builtin_function_or_method",
    "instance",
    "_Feature"
   ],
   "window_display": false
  }
 },
 "nbformat": 4,
 "nbformat_minor": 4
}
